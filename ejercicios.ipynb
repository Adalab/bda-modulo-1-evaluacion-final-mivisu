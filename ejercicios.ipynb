{
 "cells": [
  {
   "cell_type": "code",
   "execution_count": 42,
   "metadata": {},
   "outputs": [
    {
     "name": "stdout",
     "output_type": "stream",
     "text": [
      "Producto agregado\n"
     ]
    }
   ],
   "source": [
    "class TiendaOnline:\n",
    "\n",
    "\n",
    "#crear listas diccionarios\n",
    "    def __init__(self, nombre):\n",
    "        self.inventario = []\n",
    "        self.clientes = {}\n",
    "        self.ventas_totales = 0.0\n",
    "\n",
    "#agregar productos\n",
    "#Este método agrega un producto al inventario o actualiza su cantidad si ya existe. Debe recibir el nombre, precio y cantidad del producto como parámetros. \n",
    "\n",
    "    def agregar_producto(self, nombre, precio, cantidad):\n",
    "        #Iteramos el inventario\n",
    "        \"\"\" for producto in self.inventario:\n",
    "           if nombre == producto[\"nombre\"]:\n",
    "              producto[\"cantidad\"] = cantidad\n",
    "\n",
    "           else: \"\"\"\n",
    "        print(\"Producto agregado\")\n",
    "        self.inventario.append({\"nombre\": nombre, \"precio\": precio, \"cantidad\": cantidad})\n",
    "              \n",
    "\n",
    "        \"\"\" if id_producto in self.productos:\n",
    "          print((f\"El producto {id_producto} ya existe\"))\n",
    "\n",
    "        else:\n",
    "         producto = {id_producto: [nombre, precio, cantidad]}\n",
    "         self.productos.update(producto)\n",
    "         print(\"El producto se ha agregado\") \"\"\"\n",
    "\n",
    "    #Muestra el inventario de productos con sus detalles, bucle for\n",
    "\n",
    "    def ver_inventario(self):\n",
    "        for articulo in self.inventario:\n",
    "            nombre = articulo[\"nombre\"]\n",
    "            precio = articulo[\"precio\"]\n",
    "            cantidad = articulo [\"cantidad\"]\n",
    "    \n",
    "            print(f\"Nombre: {nombre}, Precio: ${precio}, Cantidad: {cantidad}\")\n"
   ]
  },
  {
   "cell_type": "code",
   "execution_count": 43,
   "metadata": {},
   "outputs": [
    {
     "name": "stdout",
     "output_type": "stream",
     "text": [
      "Producto agregado\n",
      "Nombre: Falda, Precio: $20, Cantidad: 30\n",
      "Producto agregado\n",
      "Nombre: Falda, Precio: $20, Cantidad: 30\n",
      "Nombre: Pantalon, Precio: $20, Cantidad: 30\n"
     ]
    }
   ],
   "source": [
    "# creamos una TiendaOnline que se llama \n",
    "tienda_de_prueba = TiendaOnline(\"Prueba\")\n",
    "tienda_de_prueba.ver_inventario()\n",
    "\n",
    "tienda_de_prueba.agregar_producto(\"Falda\", 20, 30)\n",
    "tienda_de_prueba.ver_inventario()\n",
    "\n",
    "tienda_de_prueba.agregar_producto(\"Pantalon\", 10, 50)\n",
    "tienda_de_prueba.ver_inventario()\n",
    "\n"
   ]
  }
 ],
 "metadata": {
  "kernelspec": {
   "display_name": "Python 3",
   "language": "python",
   "name": "python3"
  },
  "language_info": {
   "codemirror_mode": {
    "name": "ipython",
    "version": 3
   },
   "file_extension": ".py",
   "mimetype": "text/x-python",
   "name": "python",
   "nbconvert_exporter": "python",
   "pygments_lexer": "ipython3",
   "version": "3.11.9"
  }
 },
 "nbformat": 4,
 "nbformat_minor": 2
}

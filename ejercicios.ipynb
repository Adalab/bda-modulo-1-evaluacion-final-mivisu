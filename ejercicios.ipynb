{
 "cells": [
  {
   "cell_type": "code",
   "execution_count": 149,
   "metadata": {},
   "outputs": [],
   "source": [
    "class TiendaOnline:\n",
    "\n",
    "\n",
    "#crear listas diccionarios\n",
    "    def __init__(self, nombre):\n",
    "        self.inventario = []\n",
    "        self.clientes = {}\n",
    "        self.ventas_totales = 0.0\n",
    "\n",
    "#1agregar productos\n",
    "#Este método agrega un producto al inventario o actualiza su cantidad si ya existe. Debe recibir el nombre, precio y cantidad del producto como parámetros. \n",
    "\n",
    "    def agregar_producto(self, nombre, precio, cantidad):\n",
    "        #Iteramos el inventario\n",
    "        for producto in self.inventario:\n",
    "          if producto['nombre'] == nombre:\n",
    "            #si el producto existe actualizamos cantidad\n",
    "            producto['cantidad'] = cantidad\n",
    "            print(f\"producto {nombre} actualizado.Nueva cantidad:{producto['cantidad']}\")\n",
    "            return\n",
    "\n",
    "        print(\"Producto agregado\")\n",
    "        #incluimos productos que no existen en el inventario\n",
    "        self.inventario.append({\"nombre\": nombre, \"precio\": precio, \"cantidad\": cantidad})\n",
    "\n",
    "    #Muestra el inventario de productos con sus detalles, bucle for\n",
    "\n",
    "    def ver_inventario(self):\n",
    "        for articulo in self.inventario:\n",
    "            nombre = articulo[\"nombre\"]\n",
    "            precio = articulo[\"precio\"]\n",
    "            cantidad = articulo [\"cantidad\"]\n",
    "    \n",
    "            print(f\"Nombre: {nombre}, Precio: ${precio}, Cantidad: {cantidad}\")\n",
    "\n",
    "            #metodo para buscar producto por nombre\n",
    "    def buscar_producto(self, nombre): \n",
    "        #iteramos con el bucle for\n",
    "        for producto in self.inventario:\n",
    "          if producto['nombre'].lower() == nombre.lower():\n",
    "            print(f\"detallamos el producto encontrado:\\nNombre: {producto['nombre']}, precio: ${producto['precio']}, cantidad: {producto['cantidad']}\")\n",
    "            return\n",
    "        print(f\"El producto '{nombre}' no se ha encontratado en el inventario.\")\n",
    "\n",
    "        #actualizamos stock de un producto en un inventario\n",
    "\n",
    "    def actualizar_stock(self, nombre, cantidad):\n",
    "       #recorro el inventario\n",
    "       for producto in self.inventario:\n",
    "         \n",
    "    #comparo el nomnbre del producto, con el nombre que se solicita\n",
    "          if producto['nombre'].lower() == nombre.lower():\n",
    "\n",
    "            print(f\"El stock del producto {nombre} se ha actualizado dentro del inventario\")\n",
    "            \n",
    "    #actualizo cantidad segun entrada usuario\n",
    "            producto['cantidad'] = cantidad\n",
    "     #añado return aqui para que cuando encuentre el producto salga del metodo       \n",
    "            return\n",
    "            print(f\"El producto {nombre} no se ha encontrado en el inventario\") \n",
    "\n",
    "       #Elimino producto del inventario por nombre\n",
    "    def eliminar_producto(self, nombre):\n",
    "       for producto in self.inventario:\n",
    "          if producto['nombre'].lower() == nombre.lower():\n",
    "             #uso el remove elimina un elemento delconjunto\n",
    "             self.inventario.remove(producto) \n",
    "             print(f\"producto '{nombre}' eliminado del inventario\")\n",
    "             return\n",
    "          print(f\"El producto {nombre} no se ha encontrado en el inventario\")\n",
    "\n",
    "          #calcular y muestra el valor total del inventario\n",
    "    def calcular_valor_inventario(self):\n",
    "      valor_total = 0.0\n",
    "      #itero con el bucle for\n",
    "      for producto in self.inventario:\n",
    "        #calculo el valor de cada producto\n",
    "        valor_producto = producto['precio'] * producto['cantidad']\n",
    "        #añado el valor del producto al valor total\n",
    "        valor_total += valor_producto\n",
    "\n",
    "      print(f\"El valor total del inventario es: ${valor_total:.2f}\")\n",
    "\n",
    "      #metodo para realizar una compra\n",
    "\n",
    "    def realizar_compra(self):\n",
    "       self.ver_inventario()\n",
    "       #solicito al cliente que ingrese nombre de producto\n",
    "       comprar = input(\"selecciona tu producto\")\n",
    "\n",
    "       #if comprar.lower() in self.inventario:\n",
    "          \n",
    "          \n"
   ]
  },
  {
   "cell_type": "code",
   "execution_count": 150,
   "metadata": {},
   "outputs": [],
   "source": [
    "#instancia creada\n",
    "tienda = TiendaOnline (\"Mivisu\")"
   ]
  },
  {
   "cell_type": "code",
   "execution_count": 151,
   "metadata": {},
   "outputs": [
    {
     "name": "stdout",
     "output_type": "stream",
     "text": [
      "Producto agregado\n",
      "Producto agregado\n",
      "Nombre: camiseta, Precio: $20.0, Cantidad: 40\n",
      "Nombre: pantalon, Precio: $35.0, Cantidad: 50\n",
      "El valor total del inventario es: $2550.00\n",
      "Nombre: camiseta, Precio: $20.0, Cantidad: 40\n",
      "Nombre: pantalon, Precio: $35.0, Cantidad: 50\n"
     ]
    }
   ],
   "source": [
    "tienda = TiendaOnline(\"producto\")\n",
    "#agregar productos\n",
    "tienda.agregar_producto(\"camiseta\", 20.0, 40)\n",
    "tienda.agregar_producto(\"pantalon\", 35.0, 50)\n",
    "#ver inventario\n",
    "tienda.ver_inventario()\n",
    "#calcular el valor total del inventario\n",
    "tienda.calcular_valor_inventario()\n",
    "#realizar compra\n",
    "tienda.realizar_compra()\n",
    "\n",
    "\n",
    "                    \n"
   ]
  },
  {
   "cell_type": "code",
   "execution_count": 152,
   "metadata": {},
   "outputs": [
    {
     "name": "stdout",
     "output_type": "stream",
     "text": [
      "Producto agregado\n",
      "El stock del producto camisa se ha actualizado dentro del inventario\n",
      "Nombre: camisa, Precio: $30, Cantidad: 20\n",
      "producto 'camisa' eliminado del inventario\n",
      "El valor total del inventario es: $0.00\n"
     ]
    }
   ],
   "source": [
    "tienda = TiendaOnline (\"Mivisu\")\n",
    "tienda.agregar_producto(\"camisa\", 30, 15)\n",
    "\n",
    "\n",
    "tienda.actualizar_stock (\"camisa\", 20)\n",
    "\n",
    "tienda.ver_inventario()\n",
    "\n",
    "tienda.actualizar_stock(\"pantalon\", 34)\n",
    "\n",
    "tienda.eliminar_producto(\"camisa\")\n",
    "\n",
    "tienda.calcular_valor_inventario()\n",
    "\n",
    "\n"
   ]
  },
  {
   "cell_type": "code",
   "execution_count": 153,
   "metadata": {},
   "outputs": [],
   "source": [
    "tienda.ver_inventario()"
   ]
  },
  {
   "cell_type": "code",
   "execution_count": 154,
   "metadata": {},
   "outputs": [
    {
     "data": {
      "text/plain": [
       "{'inventario': [], 'clientes': {}, 'ventas_totales': 0.0}"
      ]
     },
     "execution_count": 154,
     "metadata": {},
     "output_type": "execute_result"
    }
   ],
   "source": [
    "tienda.__dict__"
   ]
  },
  {
   "cell_type": "code",
   "execution_count": 155,
   "metadata": {},
   "outputs": [
    {
     "name": "stdout",
     "output_type": "stream",
     "text": [
      "Producto agregado\n",
      "Nombre: Camisa, Precio: $20, Cantidad: 50\n",
      "Producto agregado\n",
      "Nombre: Camisa, Precio: $20, Cantidad: 50\n",
      "Nombre: Pantalón, Precio: $30, Cantidad: 30\n",
      "Producto agregado\n",
      "Nombre: Camisa, Precio: $20, Cantidad: 50\n",
      "Nombre: Pantalón, Precio: $30, Cantidad: 30\n",
      "Nombre: Zapatos, Precio: $50, Cantidad: 40\n"
     ]
    }
   ],
   "source": [
    "# creamos una TiendaOnline que se llama Mivisu\n",
    "tienda_de_prueba = TiendaOnline(\"Mivisu\")\n",
    "tienda_de_prueba.ver_inventario()\n",
    "\n",
    "tienda_de_prueba.agregar_producto(\"Camisa\", 20, 50)\n",
    "tienda_de_prueba.ver_inventario()\n",
    "\n",
    "tienda_de_prueba.agregar_producto(\"Pantalón\", 30, 30)\n",
    "tienda_de_prueba.ver_inventario()\n",
    "tienda_de_prueba.agregar_producto(\"Zapatos\", 50, 40)\n",
    "tienda_de_prueba.ver_inventario()\n",
    "\n"
   ]
  },
  {
   "cell_type": "code",
   "execution_count": 156,
   "metadata": {},
   "outputs": [
    {
     "name": "stdout",
     "output_type": "stream",
     "text": [
      "producto Camisa actualizado.Nueva cantidad:80\n",
      "Nombre: Camisa, Precio: $20, Cantidad: 80\n",
      "Nombre: Pantalón, Precio: $30, Cantidad: 30\n",
      "Nombre: Zapatos, Precio: $50, Cantidad: 40\n"
     ]
    }
   ],
   "source": [
    "tienda_de_prueba.agregar_producto(\"Camisa\", 20, 80)\n",
    "tienda_de_prueba.ver_inventario()\n",
    "\n"
   ]
  },
  {
   "cell_type": "code",
   "execution_count": 157,
   "metadata": {},
   "outputs": [
    {
     "name": "stdout",
     "output_type": "stream",
     "text": [
      "Nombre: Camisa, Precio: $20, Cantidad: 80\n",
      "Nombre: Pantalón, Precio: $30, Cantidad: 30\n",
      "Nombre: Zapatos, Precio: $50, Cantidad: 40\n"
     ]
    }
   ],
   "source": [
    "tienda_de_prueba.ver_inventario()"
   ]
  },
  {
   "cell_type": "code",
   "execution_count": 158,
   "metadata": {},
   "outputs": [
    {
     "name": "stdout",
     "output_type": "stream",
     "text": [
      "detallamos el producto encontrado:\n",
      "Nombre: Camisa, precio: $20, cantidad: 80\n"
     ]
    }
   ],
   "source": [
    "tienda_de_prueba.buscar_producto(\"camisa\")"
   ]
  },
  {
   "cell_type": "code",
   "execution_count": 159,
   "metadata": {},
   "outputs": [],
   "source": [
    "def agregar_cliente(self,nombre, email):\n",
    "    self.clientes[nombre] = email\n",
    "    print(f\"cliente {nombre} con email {email} agregado\")\n",
    "\n",
    "    tienda_de_prueba.agregar_cliente(\"jorge\", \"jor12@gmail.com\")"
   ]
  },
  {
   "cell_type": "code",
   "execution_count": 160,
   "metadata": {},
   "outputs": [
    {
     "ename": "AttributeError",
     "evalue": "'TiendaOnline' object has no attribute 'agregar_cliente'",
     "output_type": "error",
     "traceback": [
      "\u001b[1;31m---------------------------------------------------------------------------\u001b[0m",
      "\u001b[1;31mAttributeError\u001b[0m                            Traceback (most recent call last)",
      "Cell \u001b[1;32mIn[160], line 1\u001b[0m\n\u001b[1;32m----> 1\u001b[0m \u001b[43mtienda_de_prueba\u001b[49m\u001b[38;5;241;43m.\u001b[39;49m\u001b[43magregar_cliente\u001b[49m(\u001b[38;5;124m\"\u001b[39m\u001b[38;5;124mjorge\u001b[39m\u001b[38;5;124m\"\u001b[39m, \u001b[38;5;124m\"\u001b[39m\u001b[38;5;124mjor12@gmail.com\u001b[39m\u001b[38;5;124m\"\u001b[39m)\n",
      "\u001b[1;31mAttributeError\u001b[0m: 'TiendaOnline' object has no attribute 'agregar_cliente'"
     ]
    }
   ],
   "source": [
    "tienda_de_prueba.agregar_cliente(\"jorge\", \"jor12@gmail.com\")"
   ]
  }
 ],
 "metadata": {
  "kernelspec": {
   "display_name": "Python 3",
   "language": "python",
   "name": "python3"
  },
  "language_info": {
   "codemirror_mode": {
    "name": "ipython",
    "version": 3
   },
   "file_extension": ".py",
   "mimetype": "text/x-python",
   "name": "python",
   "nbconvert_exporter": "python",
   "pygments_lexer": "ipython3",
   "version": "3.11.9"
  }
 },
 "nbformat": 4,
 "nbformat_minor": 2
}

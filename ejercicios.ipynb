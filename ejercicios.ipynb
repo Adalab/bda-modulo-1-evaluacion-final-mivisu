{
 "cells": [
  {
   "cell_type": "code",
   "execution_count": 8,
   "metadata": {},
   "outputs": [],
   "source": [
    "class TiendaOnline:\n",
    "\n",
    "\n",
    "#crear listas diccionarios\n",
    " def __init__(self, nombre):\n",
    "        self.inventario = []\n",
    "        self.clientes = {}\n",
    "        self.ventas_totales = 0.0\n",
    "\n"
   ]
  },
  {
   "cell_type": "code",
   "execution_count": 23,
   "metadata": {},
   "outputs": [
    {
     "data": {
      "text/plain": [
       "' incluir cliente\\n\\ndef agregar_clientes(self, id_clientes,nombre, email):\\n  \\n        if id_clientes in self.clientes:\\n     \\n         print(f\"El cliente ,{id_clientes}ya existe\")\\n        \\n        else:\\n            producto= {id_clientes: [nombre, email]} '"
      ]
     },
     "execution_count": 23,
     "metadata": {},
     "output_type": "execute_result"
    }
   ],
   "source": [
    "#agregar productos\n",
    "def agregar_productos(self, id_producto, nombre, precio, cantidad):\n",
    "\n",
    "#Este método agrega un producto al inventario o actualiza su cantidad si ya existe. Debe recibir el nombre, precio y cantidad del producto como parámetros. \n",
    "\n",
    "        if id_producto in self.productos:\n",
    "          print((f\"El producto {id_producto} ya existe\"))\n",
    "\n",
    "        else:\n",
    "         producto = {id_producto: [nombre, precio, cantidad]}\n",
    "         self.productos.update(producto)\n",
    "         print(\"El producto se ha agregado\")\n",
    "\n",
    "\n",
    "\n",
    "\"\"\" incluir cliente\n",
    "\n",
    "def agregar_clientes(self, id_clientes,nombre, email):\n",
    "  \n",
    "        if id_clientes in self.clientes:\n",
    "     \n",
    "         print(f\"El cliente ,{id_clientes}ya existe\")\n",
    "        \n",
    "        else:\n",
    "            producto= {id_clientes: [nombre, email]} \"\"\"\n",
    "\n",
    "\n"
   ]
  },
  {
   "cell_type": "code",
   "execution_count": 25,
   "metadata": {},
   "outputs": [],
   "source": [
    "#Muestra el inventario de productos con sus detalles, bucle for\n",
    "\n",
    "def ver_inventario(self):\n",
    "    for articulo in self.inventario:\n",
    "        nombre = articulo[\"nombre\"]\n",
    "        precio = articulo[\"precio\"]\n",
    "        cantidad = articulo [\"cantidad\"]\n",
    "    \n",
    "        print(f\"Nombre: {nombre}, Precio: ${precio}, Cantidad: {cantidad}\")\n",
    "\n",
    " "
   ]
  },
  {
   "cell_type": "code",
   "execution_count": 22,
   "metadata": {},
   "outputs": [],
   "source": []
  }
 ],
 "metadata": {
  "kernelspec": {
   "display_name": "Python 3",
   "language": "python",
   "name": "python3"
  },
  "language_info": {
   "codemirror_mode": {
    "name": "ipython",
    "version": 3
   },
   "file_extension": ".py",
   "mimetype": "text/x-python",
   "name": "python",
   "nbconvert_exporter": "python",
   "pygments_lexer": "ipython3",
   "version": "3.11.9"
  }
 },
 "nbformat": 4,
 "nbformat_minor": 2
}
